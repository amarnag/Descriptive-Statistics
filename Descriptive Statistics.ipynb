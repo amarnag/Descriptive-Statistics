{
 "cells": [
  {
   "cell_type": "code",
   "execution_count": 1,
   "id": "ffb6e329",
   "metadata": {},
   "outputs": [],
   "source": [
    "nlist = [2, 4, 13, 3, 7, 8, 5]\n",
    "nlisteven = nlist + [9]\n",
    "rlist = [3.14, 2.71, -8.43, 5.25, 10.11, -23.78, 44.45]\n",
    "rlisteven = rlist + [90.3]"
   ]
  },
  {
   "cell_type": "code",
   "execution_count": 3,
   "id": "e3641a93",
   "metadata": {},
   "outputs": [
    {
     "name": "stdout",
     "output_type": "stream",
     "text": [
      "6\n",
      "4.7785714285714285\n"
     ]
    }
   ],
   "source": [
    "import statistics\n",
    "print(statistics.mean(nlist))\n",
    "print(statistics.mean(rlist))"
   ]
  },
  {
   "cell_type": "code",
   "execution_count": 4,
   "id": "a805f5b5",
   "metadata": {},
   "outputs": [
    {
     "name": "stdout",
     "output_type": "stream",
     "text": [
      "[2, 4, 13, 3, 7, 8, 5]\n",
      "[2, 3, 4, 5, 7, 8, 13]\n"
     ]
    }
   ],
   "source": [
    "print(nlist)\n",
    "print(sorted(nlist)) "
   ]
  },
  {
   "cell_type": "code",
   "execution_count": 5,
   "id": "8c4b9fbc",
   "metadata": {},
   "outputs": [
    {
     "name": "stdout",
     "output_type": "stream",
     "text": [
      "5\n"
     ]
    }
   ],
   "source": [
    "print(statistics.median(nlist))"
   ]
  },
  {
   "cell_type": "code",
   "execution_count": 6,
   "id": "84d7112e",
   "metadata": {},
   "outputs": [
    {
     "name": "stdout",
     "output_type": "stream",
     "text": [
      "[2, 4, 13, 3, 7, 8, 5, 9]\n",
      "[2, 3, 4, 5, 7, 8, 9, 13]\n"
     ]
    }
   ],
   "source": [
    "print(nlisteven)\n",
    "print(sorted(nlisteven)) "
   ]
  },
  {
   "cell_type": "code",
   "execution_count": 7,
   "id": "d1e8e70b",
   "metadata": {},
   "outputs": [
    {
     "name": "stdout",
     "output_type": "stream",
     "text": [
      "6.0\n"
     ]
    }
   ],
   "source": [
    "print(statistics.median(nlisteven))"
   ]
  },
  {
   "cell_type": "code",
   "execution_count": 8,
   "id": "480b4906",
   "metadata": {},
   "outputs": [
    {
     "name": "stdout",
     "output_type": "stream",
     "text": [
      "[3.14, 2.71, -8.43, 5.25, 10.11, -23.78, 44.45]\n",
      "[-23.78, -8.43, 2.71, 3.14, 5.25, 10.11, 44.45]\n"
     ]
    }
   ],
   "source": [
    "print(rlist)\n",
    "print(sorted(rlist))  "
   ]
  },
  {
   "cell_type": "code",
   "execution_count": 9,
   "id": "47536937",
   "metadata": {},
   "outputs": [
    {
     "name": "stdout",
     "output_type": "stream",
     "text": [
      "3.14\n"
     ]
    }
   ],
   "source": [
    "print(statistics.median(rlist))"
   ]
  },
  {
   "cell_type": "code",
   "execution_count": 10,
   "id": "65cba241",
   "metadata": {},
   "outputs": [
    {
     "name": "stdout",
     "output_type": "stream",
     "text": [
      "[3.14, 2.71, -8.43, 5.25, 10.11, -23.78, 44.45, 90.3]\n",
      "[-23.78, -8.43, 2.71, 3.14, 5.25, 10.11, 44.45, 90.3]\n"
     ]
    }
   ],
   "source": [
    "print(rlisteven)\n",
    "print(sorted(rlisteven)) "
   ]
  },
  {
   "cell_type": "code",
   "execution_count": 11,
   "id": "1c73b1fc",
   "metadata": {},
   "outputs": [
    {
     "name": "stdout",
     "output_type": "stream",
     "text": [
      "4.195\n"
     ]
    }
   ],
   "source": [
    "print(statistics.median(rlisteven)) "
   ]
  },
  {
   "cell_type": "code",
   "execution_count": 12,
   "id": "f8997814",
   "metadata": {},
   "outputs": [
    {
     "name": "stdout",
     "output_type": "stream",
     "text": [
      "[2, 3, 4, 5, 4, 5, 3, 6, 1, 3, 4, 3]\n",
      "[1, 2, 3, 3, 3, 3, 4, 4, 4, 5, 5, 6]\n"
     ]
    }
   ],
   "source": [
    "mlist = [2, 3, 4, 5, 4, 5, 3, 6, 1, 3, 4, 3]\n",
    "print(mlist)\n",
    "print(sorted(mlist)) "
   ]
  },
  {
   "cell_type": "code",
   "execution_count": 14,
   "id": "6c6ac8f3",
   "metadata": {},
   "outputs": [
    {
     "name": "stdout",
     "output_type": "stream",
     "text": [
      "3\n",
      "20.81462180661424\n",
      "433.24848095238104\n"
     ]
    }
   ],
   "source": [
    "print(statistics.mode(mlist))\n",
    "print(statistics.stdev(rlist))\n",
    "print(statistics.variance(rlist))"
   ]
  },
  {
   "cell_type": "code",
   "execution_count": 15,
   "id": "41441b0f",
   "metadata": {},
   "outputs": [
    {
     "name": "stdout",
     "output_type": "stream",
     "text": [
      "the maximum of nlis is 106\n",
      "the minimum of nlis is -4\n",
      "the sum of nlis is 170.14\n"
     ]
    }
   ],
   "source": [
    "nlis = [3.14,-4,25,8,106,32]\n",
    "print(\"the maximum of nlis is\",max(nlis))\n",
    "print(\"the minimum of nlis is\",min(nlis))\n",
    "print(\"the sum of nlis is\",sum(nlis))"
   ]
  },
  {
   "cell_type": "code",
   "execution_count": 16,
   "id": "b3920db2",
   "metadata": {},
   "outputs": [],
   "source": [
    "import random\n",
    "stat_list = []\n",
    "for i in range(0,100):\n",
    "    stat_list.append(1000*random.random()+5000)\n",
    "    \n",
    "ilis = [3, 1, 5, 2, 1, 3, 7, 3]"
   ]
  },
  {
   "cell_type": "code",
   "execution_count": 17,
   "id": "443c73f4",
   "metadata": {},
   "outputs": [],
   "source": [
    "def my_stats(slis):\n",
    "    import statistics\n",
    "    print(\"Mean: \", statistics.mean(slis))\n",
    "    print(\"Median: \", statistics.median(slis))\n",
    "#    print(\"Mode: \", statistics.mode(slis)) \n",
    "#   When the course was written the following illustrated exception handling.\n",
    "#   But with Python 3.8, there was a change.  If two or more numbers came up\n",
    "#   as mode, an error occurred.  With 3.8, it was decided to return the first\n",
    "#   number encountered if there were two or more equal candidates for mode.\n",
    "#   The next example does illustrate this. If your version is older this should\n",
    "#   work. stat_list is error trapped, but ilis works on older Python's. On new\n",
    "#   Python, neither generate an error.\n",
    "    try:\n",
    "        print(\"Mode: \", statistics.mode(slis))\n",
    "    except statistics.StatisticsError as e:\n",
    "        print(\"Mode error: \", e)\n",
    "    print(\"Standard Deviation: \", statistics.stdev(slis))\n",
    "    print(\"Variance: \", statistics.variance(slis))"
   ]
  },
  {
   "cell_type": "code",
   "execution_count": 19,
   "id": "da29ed40",
   "metadata": {},
   "outputs": [
    {
     "name": "stdout",
     "output_type": "stream",
     "text": [
      "Mean:  5439.170033781914\n",
      "Median:  5415.904526882588\n",
      "Mode:  5398.477955857299\n",
      "Standard Deviation:  295.0103160904379\n",
      "Variance:  87031.0865997801\n"
     ]
    }
   ],
   "source": [
    "my_stats(stat_list)"
   ]
  },
  {
   "cell_type": "code",
   "execution_count": 20,
   "id": "5bf1bbd2",
   "metadata": {},
   "outputs": [
    {
     "name": "stdout",
     "output_type": "stream",
     "text": [
      "Mean:  3.125\n",
      "Median:  3.0\n",
      "Mode:  3\n",
      "Standard Deviation:  2.03100960115899\n",
      "Variance:  4.125\n"
     ]
    }
   ],
   "source": [
    "my_stats(ilis)"
   ]
  },
  {
   "cell_type": "markdown",
   "id": "9233af4a",
   "metadata": {},
   "source": [
    "A simple example of try/except error catching. If the user inputs a number\n",
    "then all is fine; if the user enters a non-number, then the exception is\n",
    "caught and printed out."
   ]
  },
  {
   "cell_type": "code",
   "execution_count": 21,
   "id": "edf5407c",
   "metadata": {},
   "outputs": [],
   "source": [
    "def test_try():\n",
    "    numb = input(\"Enter a number: \")\n",
    "    print(type(numb))\n",
    "    try:\n",
    "        num = float(numb)\n",
    "        print(num)\n",
    "    except Exception as e:\n",
    "        print(\"Exception was: \", e)"
   ]
  },
  {
   "cell_type": "code",
   "execution_count": 22,
   "id": "4f9efba4",
   "metadata": {},
   "outputs": [
    {
     "name": "stdout",
     "output_type": "stream",
     "text": [
      "Enter a number: 23\n",
      "<class 'str'>\n",
      "23.0\n"
     ]
    }
   ],
   "source": [
    "test_try()"
   ]
  },
  {
   "cell_type": "code",
   "execution_count": 23,
   "id": "c37ecf7d",
   "metadata": {},
   "outputs": [
    {
     "name": "stdout",
     "output_type": "stream",
     "text": [
      "Enter a number: a\n",
      "<class 'str'>\n",
      "Exception was:  could not convert string to float: 'a'\n"
     ]
    }
   ],
   "source": [
    "test_try()"
   ]
  },
  {
   "cell_type": "markdown",
   "id": "c2f89086",
   "metadata": {},
   "source": [
    "#### Exercise:\n",
    "Write a function temp_stat(temps) to compute the average, median, standard \n",
    "deviation and variance of the temperatures in the table.  Print each out.\n",
    "The following code generates the same temperatures each time because the seed \n",
    "is set. Print the temperature list as the first line of the function."
   ]
  },
  {
   "cell_type": "code",
   "execution_count": 29,
   "id": "5a30691d",
   "metadata": {},
   "outputs": [],
   "source": [
    "import random\n",
    "temperatures = []\n",
    "random.seed(77)\n",
    "for i in range(0,20):\n",
    "    temperatures.append(random.randint(20, 95))\n",
    "    "
   ]
  },
  {
   "cell_type": "code",
   "execution_count": 30,
   "id": "84abaf01",
   "metadata": {},
   "outputs": [],
   "source": [
    "def tem_stats(temps):\n",
    "    print(temps)\n",
    "    print(\"Mean:\", statistics.mean(temps))\n",
    "    print(\"Medina:\", statistics.median(temps))\n",
    "    print(\"Standard Deviation:\", statistics.stdev(temps))\n",
    "    print(\"Variance:\", statistics.variance(temps))"
   ]
  },
  {
   "cell_type": "code",
   "execution_count": 31,
   "id": "3c73d299",
   "metadata": {},
   "outputs": [
    {
     "name": "stdout",
     "output_type": "stream",
     "text": [
      "[36, 54, 92, 34, 23, 38, 44, 83, 68, 50, 42, 28, 61, 47, 51, 63, 39, 34, 61, 73]\n",
      "Mean: 51.05\n",
      "Medina: 48.5\n",
      "Mode: 34\n",
      "Standard Deviation: 18.363221251644333\n",
      "Variance: 337.2078947368421\n"
     ]
    }
   ],
   "source": [
    "tem_stats(temperatures)"
   ]
  },
  {
   "cell_type": "markdown",
   "id": "c91d9ffd",
   "metadata": {},
   "source": [
    "#### Exercise:\n",
    "\n",
    "Add computing 'mode' to your solution to last exercise.  In the temperature \n",
    "list that we constructed, there is no unique mode, so that the program will \n",
    "crash unless you use try/except error handling.  See if you can add this \n",
    "feature to your solution.\n",
    "\n",
    "Note: if you change the seed to 277, then you will get a list that does have\n",
    "a unique mode.  You might like to try that. \n",
    "\n",
    "NOTE: This no longer works in the current version of Python.  After a long\n",
    "discussion, the authorities in charge of Python decided to return the first \n",
    "'mode' in case the mode was not unique.  This means that it will not create\n",
    "an error for Python to trap with the try/except handling.  Interestingly, if\n",
    "you sort the data you can get a different answer depending on which of the\n",
    "competing modes is earliest in the data list."
   ]
  },
  {
   "cell_type": "code",
   "execution_count": 33,
   "id": "fd5a4e26",
   "metadata": {},
   "outputs": [],
   "source": [
    "temperatures = []\n",
    "random.seed(77)\n",
    "for i in range(0,20):\n",
    "    temperatures.append(random.randint(20, 95))"
   ]
  },
  {
   "cell_type": "code",
   "execution_count": 34,
   "id": "e0702220",
   "metadata": {},
   "outputs": [],
   "source": [
    "def tem_stats(temps):\n",
    "    print(temps)\n",
    "    print(\"Mean:\", statistics.mean(temps))\n",
    "    print(\"Medina:\", statistics.median(temps))\n",
    "    try: \n",
    "        print(\"Mode:\", statistics.mode(temps))\n",
    "    except statistics.StatisticsError as e:\n",
    "        print(\"Mode error: \", e)\n",
    "    print(\"Standard Deviation:\", statistics.stdev(temps))\n",
    "    print(\"Variance:\", statistics.variance(temps))"
   ]
  },
  {
   "cell_type": "code",
   "execution_count": 35,
   "id": "87240bc4",
   "metadata": {},
   "outputs": [
    {
     "name": "stdout",
     "output_type": "stream",
     "text": [
      "[52, 61, 45, 50, 44, 34, 57, 80, 91, 50, 38, 91, 84, 20, 55, 23, 83, 42, 44, 84]\n",
      "Mean: 56.4\n",
      "Medina: 51.0\n",
      "Mode: 50\n",
      "Standard Deviation: 22.04397518836526\n",
      "Variance: 485.93684210526317\n"
     ]
    }
   ],
   "source": [
    "tem_stats(temperatures)"
   ]
  },
  {
   "cell_type": "code",
   "execution_count": null,
   "id": "ccdab9ce",
   "metadata": {},
   "outputs": [],
   "source": []
  }
 ],
 "metadata": {
  "kernelspec": {
   "display_name": "Python 3 (ipykernel)",
   "language": "python",
   "name": "python3"
  },
  "language_info": {
   "codemirror_mode": {
    "name": "ipython",
    "version": 3
   },
   "file_extension": ".py",
   "mimetype": "text/x-python",
   "name": "python",
   "nbconvert_exporter": "python",
   "pygments_lexer": "ipython3",
   "version": "3.9.7"
  }
 },
 "nbformat": 4,
 "nbformat_minor": 5
}
